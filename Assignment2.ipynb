{
 "cells": [
  {
   "cell_type": "code",
   "execution_count": 2,
   "id": "97077ecf-1486-4912-a0ab-c6d7834b611f",
   "metadata": {},
   "outputs": [
    {
     "name": "stdout",
     "output_type": "stream",
     "text": [
      " This is the list of odd number from 1 to 25 [1, 3, 5, 7, 9, 11, 13, 15, 17, 19, 21, 23, 25]\n"
     ]
    }
   ],
   "source": [
    "# Q1. Which keyword is used to create a function? Create a function to return a list of odd numbers in the\n",
    "# range of 1 to 25.\n",
    "# The function is define by -> def ->>key word\n",
    "# syntax:\n",
    "#def Name_of_function( arguments):\n",
    "#     //code\n",
    "def odd_num(n)->int:\n",
    "    l=[]\n",
    "    for i in range(0,n+1):\n",
    "        if i%2!=0:\n",
    "            l.append(i)\n",
    "    return l\n",
    "print(' This is the list of odd number from 1 to 25',odd_num(25))"
   ]
  },
  {
   "cell_type": "code",
   "execution_count": 35,
   "id": "587bbce0-cdea-4d08-b86c-67256f170e97",
   "metadata": {},
   "outputs": [
    {
     "ename": "SyntaxError",
     "evalue": "invalid syntax. Perhaps you forgot a comma? (3720203501.py, line 17)",
     "output_type": "error",
     "traceback": [
      "\u001b[0;36m  Cell \u001b[0;32mIn[35], line 17\u001b[0;36m\u001b[0m\n\u001b[0;31m    print(result(Math=85 , Thermodynamics=93, Material science=80))\u001b[0m\n\u001b[0m                                              ^\u001b[0m\n\u001b[0;31mSyntaxError\u001b[0m\u001b[0;31m:\u001b[0m invalid syntax. Perhaps you forgot a comma?\n"
     ]
    }
   ],
   "source": [
    "# Q2. Why *args and **kwargs is used in some functions? Create a function each for *args and **kwargs\n",
    "# to demonstrate their use.\n",
    "# Answer -> *args and *kwargs are spacial key word for funtion that's allow to take variable number of \n",
    "#            arguments\n",
    "# *args ->  passes variable number of non-keyworded arguments and on which operation of the tuple can be performed.\n",
    "\n",
    "# *kwargs -> passes variable number of keyword arguments dictionary to function on which operation of a dictionary can be performed.\n",
    "# for example:\n",
    "def Greeting(a,*args):\n",
    "    print(a)\n",
    "    for a in args:\n",
    "        print(a)\n",
    "\n",
    "def result(**kwargs):\n",
    "    for key, value in kwargs.items():\n",
    "        print(\"%s == %s\" % (key, value))\n",
    "print(result(Math=85 , Thermodynamics=93, Material_science=80))\n",
    "print(Greeting(\"congratulations\", \"do you have any backlog\"),end=\" \")\n"
   ]
  },
  {
   "cell_type": "code",
   "execution_count": 25,
   "id": "36384c72-3fd4-4585-ae50-01a57aec2887",
   "metadata": {},
   "outputs": [
    {
     "name": "stdout",
     "output_type": "stream",
     "text": [
      "2\n",
      "4\n",
      "6\n",
      "8\n",
      "10\n"
     ]
    }
   ],
   "source": [
    "# Q3. What is an iterator in python? Name the method used to initialise the iterator object and the method\n",
    "# used for iteration. Use these methods to print the first five elements of the given list [2, 4, 6, 8, 10, 12, 14,\n",
    "# 16, 18, 20].\n",
    "# Answer= Iterator consist of the methods __iter__() and __next__() .\n",
    "        #  Technically an Iterators are a class of objects in Python that support the __next__ method. An iterator is \n",
    "        #  called repeatedly by a for loop; and an iterator is returned when the __iter__ method is called on a iterable\n",
    "l1=[2, 4, 6, 8, 10, 12, 14,16, 18, 20]\n",
    "i= iter(l1)\n",
    "for item in range(5):\n",
    "    print(next(i))"
   ]
  },
  {
   "cell_type": "code",
   "execution_count": 26,
   "id": "6f37765e-0ce3-44b1-99e6-2a33583353ab",
   "metadata": {},
   "outputs": [
    {
     "name": "stdout",
     "output_type": "stream",
     "text": [
      "0\n",
      "1\n",
      "2\n",
      "3\n",
      "4\n",
      "5\n",
      "6\n",
      "7\n",
      "8\n",
      "9\n",
      "10\n",
      "11\n",
      "12\n",
      "13\n",
      "14\n",
      "15\n",
      "16\n",
      "17\n",
      "18\n",
      "19\n",
      "20\n",
      "21\n",
      "22\n",
      "23\n",
      "24\n"
     ]
    }
   ],
   "source": [
    "# Q4. What is a generator function in python? Why yield keyword is used? Give an example of a generator\n",
    "# function.\n",
    "# sol= Python Generator functions allow you to declare a function that acts likes an iterator, allowing\n",
    "#      programmers to make an iterator in a fast, easy, and clean way.\n",
    "    #    yield keyword is used to create a generator function\n",
    "def print_number(n):\n",
    "   for i in range(n+1):\n",
    "    yield(i)\n",
    "variable = (print_number(25))\n",
    "for i in range(25):\n",
    "    print(next(variable))"
   ]
  },
  {
   "cell_type": "code",
   "execution_count": 27,
   "id": "ed7720b5-250d-4599-97c2-22bb2738ed9a",
   "metadata": {},
   "outputs": [
    {
     "name": "stdout",
     "output_type": "stream",
     "text": [
      "[2, 3, 5, 7, 11, 13, 17, 19, 23, 29, 31, 37, 41, 43, 47, 53, 59, 61, 67, 71]\n"
     ]
    }
   ],
   "source": [
    "#Q5. Create a generator function for prime numbers less than 1000. Use the next() method to print the\n",
    "# first 20 prime numbers.\n",
    "def is_prime(n)->int:\n",
    "    for i in range(2,n):\n",
    "        if n%i==0:\n",
    "            return False\n",
    "    else:\n",
    "        return True\n",
    "def prime_number(n)->int:\n",
    "    for i in range(2,n):\n",
    "        if is_prime(i)==True:\n",
    "            yield(i)\n",
    "\n",
    "var =prime_number(1000)\n",
    "l3=[]\n",
    "for i in range(20):\n",
    "    l3.append(next(var))\n",
    "print(l3)\n"
   ]
  },
  {
   "cell_type": "code",
   "execution_count": 28,
   "id": "619ebeef-21fb-4ffc-9f5b-73f9c934b813",
   "metadata": {},
   "outputs": [
    {
     "name": "stdout",
     "output_type": "stream",
     "text": [
      "0\n",
      "1\n",
      "1\n",
      "2\n",
      "3\n",
      "5\n",
      "8\n",
      "13\n",
      "21\n",
      "34\n"
     ]
    }
   ],
   "source": [
    "# Q6. Write a python program to print the first 10 Fibonacci numbers using a while loop.\n",
    "\n",
    "def fibonacci()->int:\n",
    "    a,b= 0,1\n",
    "    while True:\n",
    "        yield(a)\n",
    "        a,b = b,a+b\n",
    "var1=fibonacci()\n",
    "for i in range(10):\n",
    "    print(next(var1))"
   ]
  },
  {
   "cell_type": "code",
   "execution_count": 30,
   "id": "0ccb3927-fcd5-4044-81f5-baa13777d023",
   "metadata": {},
   "outputs": [
    {
     "name": "stdout",
     "output_type": "stream",
     "text": [
      "['p', 'w', 's', 'k', 'i', 'l', 'l', 's']\n"
     ]
    }
   ],
   "source": [
    "# Q7. Write a List Comprehension to iterate through the given string: ‘pwskills’.\n",
    "# Expected output: ['p', 'w', 's', 'k', 'i', 'l', 'l', 's']\n",
    "string =\"pwskills\"\n",
    "l=[i for i in string ]\n",
    "print(l)"
   ]
  },
  {
   "cell_type": "code",
   "execution_count": 32,
   "id": "e4f148b0-d541-4161-a452-a62681154f12",
   "metadata": {},
   "outputs": [
    {
     "name": "stdout",
     "output_type": "stream",
     "text": [
      "for example\n",
      "is 122 is the a palindrome= False\n",
      "is 232 is the a palindrome= True\n"
     ]
    }
   ],
   "source": [
    "# Q8. Write a python program to check whether a given number is Palindrome or not using a while loop.\n",
    "def is_palindrome(n)->int:\n",
    "    s=str(n)\n",
    "    if s==s[::-1]:\n",
    "        return True\n",
    "    else:\n",
    "        return False\n",
    "print('for example')\n",
    "print('is 122 is the a palindrome=',is_palindrome(122))\n",
    "print('is 232 is the a palindrome=',is_palindrome(232))"
   ]
  },
  {
   "cell_type": "code",
   "execution_count": 33,
   "id": "e4477fc9-1c2a-411d-9dda-5d77cc80af41",
   "metadata": {},
   "outputs": [
    {
     "name": "stdout",
     "output_type": "stream",
     "text": [
      "[1, 3, 5, 7, 9, 11, 13, 15, 17, 19, 21, 23, 25, 27, 29, 31, 33, 35, 37, 39, 41, 43, 45, 47, 49, 51, 53, 55, 57, 59, 61, 63, 65, 67, 69, 71, 73, 75, 77, 79, 81, 83, 85, 87, 89, 91, 93, 95, 97, 99]\n"
     ]
    }
   ],
   "source": [
    "# Q9. Write a code to print odd numbers from 1 to 100 using list comprehension.\n",
    "list2=[i for i in  range(1,101) if i%2!=0]\n",
    "print(list2)"
   ]
  },
  {
   "cell_type": "code",
   "execution_count": null,
   "id": "59148375-22a8-4e34-87f6-378346b0b46d",
   "metadata": {},
   "outputs": [],
   "source": []
  }
 ],
 "metadata": {
  "kernelspec": {
   "display_name": "Python 3 (ipykernel)",
   "language": "python",
   "name": "python3"
  },
  "language_info": {
   "codemirror_mode": {
    "name": "ipython",
    "version": 3
   },
   "file_extension": ".py",
   "mimetype": "text/x-python",
   "name": "python",
   "nbconvert_exporter": "python",
   "pygments_lexer": "ipython3",
   "version": "3.10.8"
  }
 },
 "nbformat": 4,
 "nbformat_minor": 5
}
